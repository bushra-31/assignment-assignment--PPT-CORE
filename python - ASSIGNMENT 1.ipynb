{
 "cells": [
  {
   "cell_type": "markdown",
   "id": "11c432a2",
   "metadata": {},
   "source": [
    "1. Write a Python program to reverse a string without using any built-in string reversal functions."
   ]
  },
  {
   "cell_type": "code",
   "execution_count": 3,
   "id": "c3d44997",
   "metadata": {},
   "outputs": [
    {
     "name": "stdout",
     "output_type": "stream",
     "text": [
      "the reversed string is : yxalag yawylim fo trap a si htrae\n"
     ]
    }
   ],
   "source": [
    "def stringReversal(s):\n",
    "    reverse_string = s[::-1]\n",
    "    return reverse_string\n",
    "\n",
    "\n",
    "s = 'earth is a part of milyway galaxy'\n",
    "reverse_string = stringReversal(s)\n",
    "print('the reversed string is :', reverse_string)\n",
    "    "
   ]
  },
  {
   "cell_type": "markdown",
   "id": "58594bf5",
   "metadata": {},
   "source": [
    "2. Implement a function to check if a given string is a palindrome.\n"
   ]
  },
  {
   "cell_type": "code",
   "execution_count": 7,
   "id": "cea12ad7",
   "metadata": {},
   "outputs": [
    {
     "name": "stdout",
     "output_type": "stream",
     "text": [
      "Is the given string a palindrome?: YES\n",
      "Is the given string a palindrome?: NO\n"
     ]
    }
   ],
   "source": [
    "def palindromeCheck(s):\n",
    "    reversed_str = s[::-1]\n",
    "    if s == reversed_str:\n",
    "        return 'YES'\n",
    "    else:\n",
    "        return 'NO'\n",
    "    \n",
    "s = 'bob'\n",
    "is_palindrome = palindromeCheck(s)\n",
    "print('Is the given string a palindrome?:', is_palindrome)\n",
    "\n",
    "\n",
    "s = 'india'\n",
    "is_palindrome = palindromeCheck(s)\n",
    "print('Is the given string a palindrome?:', is_palindrome)\n",
    "\n"
   ]
  },
  {
   "cell_type": "markdown",
   "id": "9cee8f8f",
   "metadata": {},
   "source": [
    "3.Write a program to find the largest element in a given list.\n"
   ]
  },
  {
   "cell_type": "code",
   "execution_count": 8,
   "id": "f0998587",
   "metadata": {},
   "outputs": [
    {
     "name": "stdout",
     "output_type": "stream",
     "text": [
      "The largest element in the list is: 15\n"
     ]
    }
   ],
   "source": [
    "def largestElement(lst):\n",
    "    if not list:\n",
    "        return None\n",
    "    \n",
    "    largest_element = lst[0]\n",
    "    \n",
    "    for ele in lst:\n",
    "        if ele > largest_element:\n",
    "            largest_element = ele\n",
    "            \n",
    "    return largest_element\n",
    "\n",
    "my_list = [5, 10, 3, 8, 15, 1]\n",
    "largest_element = largestElement(my_list)\n",
    "print(\"The largest element in the list is:\", largest_element)"
   ]
  },
  {
   "cell_type": "markdown",
   "id": "dcb554f7",
   "metadata": {},
   "source": [
    "4.Implement a function to count the occurrence of each element in a list.\n"
   ]
  },
  {
   "cell_type": "code",
   "execution_count": 10,
   "id": "9c386061",
   "metadata": {},
   "outputs": [
    {
     "name": "stdout",
     "output_type": "stream",
     "text": [
      "Occurrence count of each element:\n",
      "1: 3\n",
      "2: 2\n",
      "3: 1\n",
      "4: 3\n",
      "5: 1\n"
     ]
    }
   ],
   "source": [
    "def countOccurance(lst):\n",
    "    ele_dict ={}\n",
    "    \n",
    "    for ele in lst:\n",
    "        if ele in ele_dict:\n",
    "            ele_dict[ele] +=1\n",
    "        else:\n",
    "            ele_dict[ele] = 1\n",
    "    return ele_dict\n",
    "\n",
    "\n",
    "my_list = [1, 2, 3, 2, 1, 1, 4, 5, 4, 4]\n",
    "occurrence_count = countOccurance(my_list)\n",
    "print(\"Occurrence count of each element:\")\n",
    "for element, count in occurrence_count.items():\n",
    "    print(f\"{element}: {count}\")"
   ]
  },
  {
   "cell_type": "markdown",
   "id": "944e5e64",
   "metadata": {},
   "source": [
    "5. Write a Python program to find the second largest number in a list."
   ]
  },
  {
   "cell_type": "code",
   "execution_count": 16,
   "id": "107c3ad8",
   "metadata": {},
   "outputs": [
    {
     "name": "stdout",
     "output_type": "stream",
     "text": [
      "The second largest element in the list is: 10\n"
     ]
    }
   ],
   "source": [
    "def secondLargestNum(lst):\n",
    "    largest_num = lst[0]\n",
    "    second_largest_num = lst[0]\n",
    "    \n",
    "    for num in lst:\n",
    "        if num > largest_num:\n",
    "            largest_num = num\n",
    "    for num in lst:\n",
    "        if num > second_largest_num and num != largest_num:\n",
    "            second_largest_num = num\n",
    "    return second_largest_num\n",
    "    \n",
    "    \n",
    "my_list = [5, 10, 3, 8, 15, 1]\n",
    "second_largest_num = secondLargestNum(my_list)\n",
    "print(\"The second largest element in the list is:\",second_largest_num )"
   ]
  },
  {
   "cell_type": "markdown",
   "id": "678ef634",
   "metadata": {},
   "source": [
    "6. Implement a function to remove duplicate elements from a list.\n"
   ]
  },
  {
   "cell_type": "code",
   "execution_count": 18,
   "id": "9249190d",
   "metadata": {},
   "outputs": [
    {
     "name": "stdout",
     "output_type": "stream",
     "text": [
      "The new list without duplicates is: [1, 2, 3, 4, 5, 6, 7, 8]\n"
     ]
    }
   ],
   "source": [
    "def RemoveDuplicate(lst):\n",
    "    new_list = []\n",
    "    \n",
    "    for ele in lst:\n",
    "        if ele not in new_list:\n",
    "            new_list.append(ele)\n",
    "    \n",
    "    return new_list\n",
    "\n",
    "mylist = [1, 2, 3, 2, 2, 3, 4, 5, 6, 7, 7, 7, 8]\n",
    "remove_duplicates = RemoveDuplicate(mylist)\n",
    "print(\"The new list without duplicates is:\", remove_duplicates)\n"
   ]
  },
  {
   "cell_type": "markdown",
   "id": "c226f780",
   "metadata": {},
   "source": [
    "7. Write a program to calculate the factorial of a given number."
   ]
  },
  {
   "cell_type": "code",
   "execution_count": 19,
   "id": "93c9fbb2",
   "metadata": {},
   "outputs": [
    {
     "name": "stdout",
     "output_type": "stream",
     "text": [
      "The factorial of 5 is: 120\n"
     ]
    }
   ],
   "source": [
    "def calculate_factorial(n):\n",
    "    if n == 0 or n == 1:\n",
    "        return 1\n",
    "\n",
    "    factorial = 1\n",
    "    for i in range(2, n + 1):\n",
    "        factorial *= i\n",
    "\n",
    "    return factorial\n",
    "\n",
    "\n",
    "number = 5\n",
    "factorial = calculate_factorial(number)\n",
    "print(\"The factorial of\", number, \"is:\", factorial)\n"
   ]
  },
  {
   "cell_type": "markdown",
   "id": "1e9966c9",
   "metadata": {},
   "source": [
    "8. Implement a function to check if a given number is prime."
   ]
  },
  {
   "cell_type": "code",
   "execution_count": 27,
   "id": "eb3983d6",
   "metadata": {},
   "outputs": [
    {
     "name": "stdout",
     "output_type": "stream",
     "text": [
      "the given number is :  Not prime\n",
      "the given number is :  prime\n"
     ]
    }
   ],
   "source": [
    "def PrimeCheck(num):\n",
    "    for i in range(2,num):\n",
    "        if num % i == 0:\n",
    "            return 'Not prime'\n",
    "        else:\n",
    "            return 'prime'\n",
    "            \n",
    "num = 10\n",
    "prime_check = PrimeCheck(num)\n",
    "print('the given number is : ' , prime_check)\n",
    "\n",
    "\n",
    "num = 7\n",
    "prime_check = PrimeCheck(num)\n",
    "print('the given number is : ' , prime_check)\n"
   ]
  },
  {
   "cell_type": "markdown",
   "id": "4b280236",
   "metadata": {},
   "source": [
    "9. Write a Python program to sort a list of integers in ascending order."
   ]
  },
  {
   "cell_type": "code",
   "execution_count": 30,
   "id": "f56258c1",
   "metadata": {},
   "outputs": [
    {
     "name": "stdout",
     "output_type": "stream",
     "text": [
      "The sorted the list in ascending order is :  [1, 3, 4, 12, 22, 44, 45, 78]\n"
     ]
    }
   ],
   "source": [
    "def SortedList(lst):\n",
    "    for i in range(len(lst)):\n",
    "        for j in range(i+1,len(lst)):\n",
    "            if lst[i]>lst[j]:\n",
    "                temp = lst[i]\n",
    "                lst[i] = lst[j]\n",
    "                lst[j] = temp\n",
    "    return lst\n",
    "\n",
    "\n",
    "mylist = [12,3,4,44,1,45,22,78]\n",
    "sorted_list = SortedList(mylist)\n",
    "print('The sorted the list in ascending order is : ' , sorted_list)"
   ]
  },
  {
   "cell_type": "markdown",
   "id": "4be67815",
   "metadata": {},
   "source": [
    " 10.Implement a function to find the sum of all numbers in a list."
   ]
  },
  {
   "cell_type": "code",
   "execution_count": 31,
   "id": "8bcdb219",
   "metadata": {},
   "outputs": [
    {
     "name": "stdout",
     "output_type": "stream",
     "text": [
      "The sum of elements of the list is : 55\n"
     ]
    }
   ],
   "source": [
    "def Sum(lst):\n",
    "    sum = 0 \n",
    "    for num in lst:\n",
    "        sum += num\n",
    "    return sum \n",
    "\n",
    "mylist = [1,2,3,4,5,6,7,8,9,10]\n",
    "sum_of_list = Sum(mylist)\n",
    "print('The sum of elements of the list is :',sum_of_list)"
   ]
  },
  {
   "cell_type": "markdown",
   "id": "2eefff34",
   "metadata": {},
   "source": [
    "11. Write a program to find the common elements between two lists.\n"
   ]
  },
  {
   "cell_type": "code",
   "execution_count": 32,
   "id": "d20f4ef7",
   "metadata": {},
   "outputs": [
    {
     "name": "stdout",
     "output_type": "stream",
     "text": [
      "Common elements between the two lists: [4, 5]\n"
     ]
    }
   ],
   "source": [
    "def find_common_elements(list1, list2):\n",
    "    common_elements = []\n",
    "    for element in list1:\n",
    "        if element in list2:\n",
    "            common_elements.append(element)\n",
    "    return common_elements\n",
    "\n",
    "\n",
    "list1 = [1, 2, 3, 4, 5]\n",
    "list2 = [4, 5, 6, 7, 8]\n",
    "common_elements = find_common_elements(list1, list2)\n",
    "print(\"Common elements between the two lists:\", common_elements)\n"
   ]
  },
  {
   "cell_type": "markdown",
   "id": "166d73d5",
   "metadata": {},
   "source": [
    "12. Implement a function to check if a given string is an anagram of another string.\n"
   ]
  },
  {
   "cell_type": "code",
   "execution_count": null,
   "id": "6fc632f3",
   "metadata": {},
   "outputs": [],
   "source": [
    "def is_anagram(str1, str2):\n",
    "    str1 = str1.lower()\n",
    "    str2 = str2.lower()\n",
    "    \n",
    "    # Remove any non-alphabetic characters\n",
    "    str1 = ''.join(char for char in str1 if char.isalpha())\n",
    "    str2 = ''.join(char for char in str2 if char.isalpha())\n",
    "    \n",
    "    # Check if the sorted versions of both strings are equal\n",
    "    return sorted(str1) == sorted(str2)\n",
    "\n",
    "# Example usage\n",
    "string1 = \"listen\"\n",
    "string2 = \"silent\"\n",
    "if is_anagram(string1, string2):\n",
    "    print(f\"{string1} and {string2} are anagrams.\")\n",
    "else:\n",
    "    print(f\"{string1} and {string2} are not anagrams.\")\n"
   ]
  },
  {
   "cell_type": "markdown",
   "id": "828933e9",
   "metadata": {},
   "source": [
    "13. Write a Python program to generate all permutations of a given string.\n"
   ]
  },
  {
   "cell_type": "code",
   "execution_count": 1,
   "id": "b3263fc6",
   "metadata": {},
   "outputs": [
    {
     "name": "stdout",
     "output_type": "stream",
     "text": [
      "['abc', 'acb', 'bac', 'bca', 'cab', 'cba']\n"
     ]
    }
   ],
   "source": [
    "from itertools import permutations\n",
    "\n",
    "def get_permutations(s):\n",
    "    perms = [''.join(p) for p in permutations(s)]\n",
    "    return perms\n",
    "\n",
    "# Example usage:\n",
    "s = \"abc\"\n",
    "result = get_permutations(s)\n",
    "print(result)\n"
   ]
  },
  {
   "cell_type": "markdown",
   "id": "c9755bd9",
   "metadata": {},
   "source": [
    "14. Implement a function to calculate the Fibonacci sequence up to a given number of terms.\n"
   ]
  },
  {
   "cell_type": "code",
   "execution_count": 2,
   "id": "815c3989",
   "metadata": {},
   "outputs": [
    {
     "name": "stdout",
     "output_type": "stream",
     "text": [
      "[0, 1, 1, 2, 3, 5, 8, 13, 21, 34]\n"
     ]
    }
   ],
   "source": [
    "def fibonacci(n):\n",
    "    fib_sequence = []  # List to store Fibonacci sequence\n",
    "    a, b = 0, 1  # Initial values for Fibonacci sequence\n",
    "    \n",
    "    # Calculate Fibonacci sequence up to n terms\n",
    "    for _ in range(n):\n",
    "        fib_sequence.append(a)\n",
    "        a, b = b, a + b\n",
    "    \n",
    "    return fib_sequence\n",
    "\n",
    "# Example usage:\n",
    "n = 10\n",
    "result = fibonacci(n)\n",
    "print(result)\n"
   ]
  },
  {
   "cell_type": "markdown",
   "id": "951451f1",
   "metadata": {},
   "source": [
    "15. Write a program to find the median of a list of numbers.\n"
   ]
  },
  {
   "cell_type": "code",
   "execution_count": 3,
   "id": "7c4795e8",
   "metadata": {},
   "outputs": [
    {
     "name": "stdout",
     "output_type": "stream",
     "text": [
      "5\n"
     ]
    }
   ],
   "source": [
    "def find_median(numbers):\n",
    "    sorted_numbers = sorted(numbers)  # Sort the numbers in ascending order\n",
    "    n = len(sorted_numbers)\n",
    "    \n",
    "    if n % 2 == 0:\n",
    "        # If the list has even number of elements, average the middle two numbers\n",
    "        mid = n // 2\n",
    "        median = (sorted_numbers[mid - 1] + sorted_numbers[mid]) / 2\n",
    "    else:\n",
    "        # If the list has odd number of elements, take the middle number as the median\n",
    "        mid = n // 2\n",
    "        median = sorted_numbers[mid]\n",
    "    \n",
    "    return median\n",
    "\n",
    "# Example usage:\n",
    "numbers = [9, 2, 7, 4, 5, 1, 6, 3, 8]\n",
    "result = find_median(numbers)\n",
    "print(result)\n"
   ]
  },
  {
   "cell_type": "markdown",
   "id": "dbe64cbb",
   "metadata": {},
   "source": [
    "16. Implement a function to check if a given list is sorted in non-decreasing order.\n"
   ]
  },
  {
   "cell_type": "code",
   "execution_count": 4,
   "id": "b29c402c",
   "metadata": {},
   "outputs": [
    {
     "name": "stdout",
     "output_type": "stream",
     "text": [
      "True\n",
      "False\n"
     ]
    }
   ],
   "source": [
    "def is_sorted(nums):\n",
    "    for i in range(len(nums) - 1):\n",
    "        if nums[i] > nums[i + 1]:\n",
    "            return False\n",
    "    return True\n",
    "\n",
    "# Example usage:\n",
    "numbers1 = [1, 2, 3, 4, 5]\n",
    "print(is_sorted(numbers1)) \n",
    "\n",
    "numbers2 = [1, 3, 2, 4, 5]\n",
    "print(is_sorted(numbers2))  \n"
   ]
  },
  {
   "cell_type": "markdown",
   "id": "7b5299d7",
   "metadata": {},
   "source": [
    "17. Write a Python program to find the intersection of two lists.\n"
   ]
  },
  {
   "cell_type": "code",
   "execution_count": 5,
   "id": "ad61dd2f",
   "metadata": {},
   "outputs": [
    {
     "name": "stdout",
     "output_type": "stream",
     "text": [
      "[4, 5]\n"
     ]
    }
   ],
   "source": [
    "def find_intersection(list1, list2):\n",
    "    set1 = set(list1)\n",
    "    set2 = set(list2)\n",
    "    intersection = set1.intersection(set2)\n",
    "    return list(intersection)\n",
    "\n",
    "# Example usage:\n",
    "list1 = [1, 2, 3, 4, 5]\n",
    "list2 = [4, 5, 6, 7, 8]\n",
    "intersection = find_intersection(list1, list2)\n",
    "print(intersection)  # Output: [4, 5]\n"
   ]
  },
  {
   "cell_type": "markdown",
   "id": "5d79fb54",
   "metadata": {},
   "source": [
    "18. Implement a function to find the maximum subarray sum in a given list.\n"
   ]
  },
  {
   "cell_type": "code",
   "execution_count": 6,
   "id": "8e2e0d28",
   "metadata": {},
   "outputs": [
    {
     "name": "stdout",
     "output_type": "stream",
     "text": [
      "6\n"
     ]
    }
   ],
   "source": [
    "def max_subarray_sum(nums):\n",
    "    if not nums:\n",
    "        return 0\n",
    "    \n",
    "    current_sum = max_sum = nums[0]\n",
    "    for i in range(1, len(nums)):\n",
    "        current_sum = max(nums[i], current_sum + nums[i])\n",
    "        max_sum = max(max_sum, current_sum)\n",
    "    \n",
    "    return max_sum\n",
    "\n",
    "# Example usage:\n",
    "nums = [-2, 1, -3, 4, -1, 2, 1, -5, 4]\n",
    "max_sum = max_subarray_sum(nums)\n",
    "print(max_sum)  # Output: 6\n"
   ]
  },
  {
   "cell_type": "markdown",
   "id": "fbf7047a",
   "metadata": {},
   "source": [
    "19. Write a program to remove all vowels from a given string.\n"
   ]
  },
  {
   "cell_type": "code",
   "execution_count": 7,
   "id": "d3378817",
   "metadata": {},
   "outputs": [
    {
     "name": "stdout",
     "output_type": "stream",
     "text": [
      "Hll, Wrld!\n"
     ]
    }
   ],
   "source": [
    "def remove_vowels(string):\n",
    "    vowels = ['a', 'e', 'i', 'o', 'u']\n",
    "    result = \"\"\n",
    "\n",
    "    for char in string:\n",
    "        if char.lower() not in vowels:\n",
    "            result += char\n",
    "\n",
    "    return result\n",
    "\n",
    "# Example usage:\n",
    "input_string = \"Hello, World!\"\n",
    "output_string = remove_vowels(input_string)\n",
    "print(output_string)  \n"
   ]
  },
  {
   "cell_type": "markdown",
   "id": "639c475e",
   "metadata": {},
   "source": [
    "20. Implement a function to reverse the order of words in a given sentence.\n"
   ]
  },
  {
   "cell_type": "code",
   "execution_count": 8,
   "id": "c259485f",
   "metadata": {},
   "outputs": [
    {
     "name": "stdout",
     "output_type": "stream",
     "text": [
      "galaxy. milkyway from planets the of one is earth\n"
     ]
    }
   ],
   "source": [
    "def reverse_sentence(sentence):\n",
    "    words = sentence.split()\n",
    "    reversed_words = words[::-1]\n",
    "    reversed_sentence = ' '.join(reversed_words)\n",
    "    return reversed_sentence\n",
    "\n",
    "# Example usage:\n",
    "input_sentence = \"earth is one of the planets from milkyway galaxy.\"\n",
    "output_sentence = reverse_sentence(input_sentence)\n",
    "print(output_sentence)  \n"
   ]
  },
  {
   "cell_type": "markdown",
   "id": "0edc3baf",
   "metadata": {},
   "source": [
    "21. Write a Python program to check if two strings are anagrams of each other.\n"
   ]
  },
  {
   "cell_type": "code",
   "execution_count": 9,
   "id": "8c122325",
   "metadata": {},
   "outputs": [
    {
     "name": "stdout",
     "output_type": "stream",
     "text": [
      "The two strings are anagrams.\n"
     ]
    }
   ],
   "source": [
    "def are_anagrams(str1, str2):\n",
    "    # Convert both strings to lowercase and remove whitespace\n",
    "    str1 = str1.lower().replace(\" \", \"\")\n",
    "    str2 = str2.lower().replace(\" \", \"\")\n",
    "    \n",
    "    # Check if the sorted characters of the two strings are the same\n",
    "    return sorted(str1) == sorted(str2)\n",
    "\n",
    "# Example usage:\n",
    "string1 = \"Listen\"\n",
    "string2 = \"Silent\"\n",
    "if are_anagrams(string1, string2):\n",
    "    print(\"The two strings are anagrams.\")\n",
    "else:\n",
    "    print(\"The two strings are not anagrams.\")\n"
   ]
  },
  {
   "cell_type": "markdown",
   "id": "e16f5c40",
   "metadata": {},
   "source": [
    "22. Implement a function to find the first non-repeating character in a string.\n"
   ]
  },
  {
   "cell_type": "code",
   "execution_count": 10,
   "id": "797b2cbb",
   "metadata": {},
   "outputs": [
    {
     "name": "stdout",
     "output_type": "stream",
     "text": [
      "The first non-repeating character is: c\n"
     ]
    }
   ],
   "source": [
    "def find_first_non_repeating_character(string):\n",
    "    char_counts = {}\n",
    "    \n",
    "    # Count the occurrences of each character in the string\n",
    "    for char in string:\n",
    "        char_counts[char] = char_counts.get(char, 0) + 1\n",
    "    \n",
    "    # Find the first character with a count of 1\n",
    "    for char in string:\n",
    "        if char_counts[char] == 1:\n",
    "            return char\n",
    "    \n",
    "    # If no non-repeating character is found, return None\n",
    "    return None\n",
    "\n",
    "# Example usage:\n",
    "input_string = \"abracadabra\"\n",
    "result = find_first_non_repeating_character(input_string)\n",
    "if result is not None:\n",
    "    print(\"The first non-repeating character is:\", result)\n",
    "else:\n",
    "    print(\"There is no non-repeating character in the string.\")\n"
   ]
  },
  {
   "cell_type": "markdown",
   "id": "18528279",
   "metadata": {},
   "source": [
    "23. Write a program to find the prime factors of a given number.\n"
   ]
  },
  {
   "cell_type": "code",
   "execution_count": 11,
   "id": "67a9c03e",
   "metadata": {},
   "outputs": [
    {
     "name": "stdout",
     "output_type": "stream",
     "text": [
      "Prime factors of 84 are: [2, 2, 3, 7]\n"
     ]
    }
   ],
   "source": [
    "def find_prime_factors(n):\n",
    "    factors = []\n",
    "\n",
    "    # Check for factors of 2\n",
    "    while n % 2 == 0:\n",
    "        factors.append(2)\n",
    "        n //= 2\n",
    "\n",
    "    # Check for factors of odd numbers starting from 3\n",
    "    i = 3\n",
    "    while i * i <= n:\n",
    "        while n % i == 0:\n",
    "            factors.append(i)\n",
    "            n //= i\n",
    "        i += 2\n",
    "\n",
    "    # If n is still greater than 2, it must be a prime number\n",
    "    if n > 2:\n",
    "        factors.append(n)\n",
    "\n",
    "    return factors\n",
    "\n",
    "# Example usage:\n",
    "number = 84\n",
    "result = find_prime_factors(number)\n",
    "print(\"Prime factors of\", number, \"are:\", result)\n"
   ]
  },
  {
   "cell_type": "markdown",
   "id": "176cd111",
   "metadata": {},
   "source": [
    "24. Implement a function to check if a given number is a power of two.\n"
   ]
  },
  {
   "cell_type": "code",
   "execution_count": 12,
   "id": "838bab76",
   "metadata": {},
   "outputs": [
    {
     "name": "stdout",
     "output_type": "stream",
     "text": [
      "16 is a power of two: True\n"
     ]
    }
   ],
   "source": [
    "def is_power_of_two(n):\n",
    "    if n <= 0:\n",
    "        return False\n",
    "    return (n & (n - 1)) == 0\n",
    "\n",
    "# Example usage:\n",
    "number = 16\n",
    "result = is_power_of_two(number)\n",
    "print(number, \"is a power of two:\", result)\n"
   ]
  },
  {
   "cell_type": "markdown",
   "id": "a6cec411",
   "metadata": {},
   "source": [
    "25. Write a Python program to merge two sorted lists into a single sorted list.\n"
   ]
  },
  {
   "cell_type": "code",
   "execution_count": 13,
   "id": "6cb16552",
   "metadata": {},
   "outputs": [
    {
     "name": "stdout",
     "output_type": "stream",
     "text": [
      "Merged list: [1, 2, 3, 4, 5, 6, 7, 8, 9, 10]\n"
     ]
    }
   ],
   "source": [
    "def merge_sorted_lists(list1, list2):\n",
    "    merged_list = []\n",
    "    i, j = 0, 0\n",
    "\n",
    "    while i < len(list1) and j < len(list2):\n",
    "        if list1[i] < list2[j]:\n",
    "            merged_list.append(list1[i])\n",
    "            i += 1\n",
    "        else:\n",
    "            merged_list.append(list2[j])\n",
    "            j += 1\n",
    "\n",
    "    # Append the remaining elements of list1, if any\n",
    "    while i < len(list1):\n",
    "        merged_list.append(list1[i])\n",
    "        i += 1\n",
    "\n",
    "    # Append the remaining elements of list2, if any\n",
    "    while j < len(list2):\n",
    "        merged_list.append(list2[j])\n",
    "        j += 1\n",
    "\n",
    "    return merged_list\n",
    "\n",
    "# Example usage:\n",
    "list1 = [1, 3, 5, 7, 9]\n",
    "list2 = [2, 4, 6, 8, 10]\n",
    "result = merge_sorted_lists(list1, list2)\n",
    "print(\"Merged list:\", result)\n"
   ]
  },
  {
   "cell_type": "markdown",
   "id": "fb4adb2e",
   "metadata": {},
   "source": [
    "26. Implement a function to find the mode of a list of numbers.\n"
   ]
  },
  {
   "cell_type": "code",
   "execution_count": 14,
   "id": "ac7dd899",
   "metadata": {},
   "outputs": [
    {
     "name": "stdout",
     "output_type": "stream",
     "text": [
      "Mode(s): [4]\n"
     ]
    }
   ],
   "source": [
    "def find_mode(numbers):\n",
    "    # Create a dictionary to store the frequency count of each number\n",
    "    frequency = {}\n",
    "\n",
    "    # Count the frequency of each number in the list\n",
    "    for num in numbers:\n",
    "        if num in frequency:\n",
    "            frequency[num] += 1\n",
    "        else:\n",
    "            frequency[num] = 1\n",
    "\n",
    "    # Find the mode(s) by finding the number(s) with the highest frequency\n",
    "    mode = []\n",
    "    max_frequency = max(frequency.values())\n",
    "    for num, freq in frequency.items():\n",
    "        if freq == max_frequency:\n",
    "            mode.append(num)\n",
    "\n",
    "    return mode\n",
    "\n",
    "# Example usage:\n",
    "numbers = [1, 2, 3, 2, 4, 3, 4, 5, 4, 4]\n",
    "result = find_mode(numbers)\n",
    "print(\"Mode(s):\", result)\n"
   ]
  },
  {
   "cell_type": "markdown",
   "id": "76eb05c9",
   "metadata": {},
   "source": [
    "27. Write a program to find the greatest common divisor (GCD) of two numbers.\n"
   ]
  },
  {
   "cell_type": "code",
   "execution_count": 15,
   "id": "f1168248",
   "metadata": {},
   "outputs": [
    {
     "name": "stdout",
     "output_type": "stream",
     "text": [
      "GCD of 54 and 24 is: 6\n"
     ]
    }
   ],
   "source": [
    "def gcd(a, b):\n",
    "    while b != 0:\n",
    "        a, b = b, a % b\n",
    "    return a\n",
    "\n",
    "# Example usage:\n",
    "num1 = 54\n",
    "num2 = 24\n",
    "result = gcd(num1, num2)\n",
    "print(\"GCD of\", num1, \"and\", num2, \"is:\", result)\n"
   ]
  },
  {
   "cell_type": "markdown",
   "id": "36b1785c",
   "metadata": {},
   "source": [
    "28. Implement a function to calculate the square root of a given number.\n"
   ]
  },
  {
   "cell_type": "code",
   "execution_count": 16,
   "id": "5cccff15",
   "metadata": {},
   "outputs": [
    {
     "name": "stdout",
     "output_type": "stream",
     "text": [
      "Square root of 25 is: 5.000000000016778\n"
     ]
    }
   ],
   "source": [
    "def square_root(number):\n",
    "    if number < 0:\n",
    "        return None  # Square root of a negative number is undefined\n",
    "\n",
    "    # Initial guess\n",
    "    guess = number / 2\n",
    "\n",
    "    # Iterate until the desired level of accuracy is reached\n",
    "    while abs(guess * guess - number) > 0.0001:\n",
    "        guess = (guess + number / guess) / 2\n",
    "\n",
    "    return guess\n",
    "\n",
    "# Example usage:\n",
    "number = 25\n",
    "result = square_root(number)\n",
    "print(\"Square root of\", number, \"is:\", result)\n"
   ]
  },
  {
   "cell_type": "markdown",
   "id": "7eb2bf2c",
   "metadata": {},
   "source": [
    "29. Write a Python program to check if a given string is a valid palindrome ignoring non-alphanumeric characters.\n"
   ]
  },
  {
   "cell_type": "code",
   "execution_count": 17,
   "id": "9914289e",
   "metadata": {},
   "outputs": [
    {
     "name": "stdout",
     "output_type": "stream",
     "text": [
      "Is valid palindrome: True\n"
     ]
    }
   ],
   "source": [
    "def is_valid_palindrome(s):\n",
    "    # Remove non-alphanumeric characters\n",
    "    alphanumeric_s = ''.join(ch.lower() for ch in s if ch.isalnum())\n",
    "\n",
    "    # Compare with the reversed string\n",
    "    return alphanumeric_s == alphanumeric_s[::-1]\n",
    "\n",
    "# Example usage:\n",
    "string = \"A man, a plan, a canal: Panama\"\n",
    "result = is_valid_palindrome(string)\n",
    "print(\"Is valid palindrome:\", result)\n"
   ]
  },
  {
   "cell_type": "markdown",
   "id": "479e27c8",
   "metadata": {},
   "source": [
    "30. Implement a function to find the minimum element in a rotated sorted list.\n"
   ]
  },
  {
   "cell_type": "code",
   "execution_count": 19,
   "id": "8a972363",
   "metadata": {},
   "outputs": [
    {
     "name": "stdout",
     "output_type": "stream",
     "text": [
      "Minimum element: 0\n"
     ]
    }
   ],
   "source": [
    "def find_minimum(nums):\n",
    "    left = 0\n",
    "    right = len(nums) - 1\n",
    "\n",
    "    while left < right:\n",
    "        mid = left + (right - left) // 2\n",
    "\n",
    "        # Check if the mid element is greater than the last element\n",
    "        if nums[mid] > nums[right]:\n",
    "            left = mid + 1\n",
    "        # Check if the mid element is less than the last element\n",
    "        elif nums[mid] < nums[right]:\n",
    "            right = mid\n",
    "        # If the mid element is equal to the last element, we cannot determine which half is sorted\n",
    "        # In this case, we decrement the right pointer by 1\n",
    "        else:\n",
    "            right -= 1\n",
    "\n",
    "    # The left pointer will eventually point to the minimum element\n",
    "    return nums[left]\n",
    "nums = [4, 5, 6, 7, 0, 1, 2]\n",
    "min_element = find_minimum(nums)\n",
    "print(\"Minimum element:\", min_element)\n"
   ]
  },
  {
   "cell_type": "markdown",
   "id": "20cb36cb",
   "metadata": {},
   "source": [
    "31. Write a program to find the sum of all even numbers in a list.\n"
   ]
  },
  {
   "cell_type": "code",
   "execution_count": 20,
   "id": "d4366778",
   "metadata": {},
   "outputs": [
    {
     "name": "stdout",
     "output_type": "stream",
     "text": [
      "Sum of even numbers: 30\n"
     ]
    }
   ],
   "source": [
    "def sum_of_even_numbers(nums):\n",
    "    total = 0\n",
    "    for num in nums:\n",
    "        if num % 2 == 0:\n",
    "            total += num\n",
    "    return total\n",
    "\n",
    "# Example usage\n",
    "numbers = [1, 2, 3, 4, 5, 6, 7, 8, 9, 10]\n",
    "even_sum = sum_of_even_numbers(numbers)\n",
    "print(\"Sum of even numbers:\", even_sum)\n"
   ]
  },
  {
   "cell_type": "markdown",
   "id": "fe1f1fa3",
   "metadata": {},
   "source": [
    "32. Implement a function to calculate the power of a number using recursion.\n"
   ]
  },
  {
   "cell_type": "code",
   "execution_count": 21,
   "id": "1d93c8d1",
   "metadata": {},
   "outputs": [
    {
     "name": "stdout",
     "output_type": "stream",
     "text": [
      "2 raised to the power of 3 is: 8\n"
     ]
    }
   ],
   "source": [
    "def power(base, exponent):\n",
    "    if exponent == 0:\n",
    "        return 1\n",
    "    elif exponent < 0:\n",
    "        return 1 / power(base, -exponent)\n",
    "    else:\n",
    "        return base * power(base, exponent - 1)\n",
    "\n",
    "# Example usage\n",
    "base = 2\n",
    "exponent = 3\n",
    "result = power(base, exponent)\n",
    "print(f\"{base} raised to the power of {exponent} is: {result}\")\n"
   ]
  },
  {
   "cell_type": "markdown",
   "id": "3405488c",
   "metadata": {},
   "source": [
    "33. Write a Python program to remove duplicates from a list while preserving the order.\n"
   ]
  },
  {
   "cell_type": "code",
   "execution_count": 22,
   "id": "45d52c91",
   "metadata": {},
   "outputs": [
    {
     "name": "stdout",
     "output_type": "stream",
     "text": [
      "[1, 2, 3, 4, 5]\n"
     ]
    }
   ],
   "source": [
    "def remove_duplicates(nums):\n",
    "    seen = set()\n",
    "    return [x for x in nums if not (x in seen or seen.add(x))]\n",
    "\n",
    "# Example usage\n",
    "nums = [1, 2, 3, 2, 4, 1, 5]\n",
    "result = remove_duplicates(nums)\n",
    "print(result)\n"
   ]
  },
  {
   "cell_type": "markdown",
   "id": "7b5e6b61",
   "metadata": {},
   "source": [
    "34. Implement a function to find the longest common prefix among a list of strings."
   ]
  },
  {
   "cell_type": "code",
   "execution_count": 23,
   "id": "83ee2cf3",
   "metadata": {},
   "outputs": [
    {
     "name": "stdout",
     "output_type": "stream",
     "text": [
      "fl\n"
     ]
    }
   ],
   "source": [
    "def longest_common_prefix(strs):\n",
    "    if not strs:\n",
    "        return \"\"\n",
    "    \n",
    "    shortest = min(strs, key=len)\n",
    "    \n",
    "    for i, char in enumerate(shortest):\n",
    "        for other in strs:\n",
    "            if other[i] != char:\n",
    "                return shortest[:i]\n",
    "    \n",
    "    return shortest\n",
    "\n",
    "# Example usage\n",
    "strings = [\"flower\", \"flow\", \"flight\"]\n",
    "result = longest_common_prefix(strings)\n",
    "print(result)\n"
   ]
  },
  {
   "cell_type": "markdown",
   "id": "c03efe2e",
   "metadata": {},
   "source": [
    "35. Write a program to check if a given number is a perfect square.\n"
   ]
  },
  {
   "cell_type": "code",
   "execution_count": 24,
   "id": "8cb00e37",
   "metadata": {},
   "outputs": [
    {
     "name": "stdout",
     "output_type": "stream",
     "text": [
      "True\n"
     ]
    }
   ],
   "source": [
    "def is_perfect_square(num):\n",
    "    if num < 0:\n",
    "        return False\n",
    "    \n",
    "    sqrt = int(num ** 0.5)\n",
    "    \n",
    "    return sqrt * sqrt == num\n",
    "\n",
    "# Example usage\n",
    "number = 16\n",
    "result = is_perfect_square(number)\n",
    "print(result)\n"
   ]
  },
  {
   "cell_type": "markdown",
   "id": "42b5bd41",
   "metadata": {},
   "source": [
    "36. Implement a function to calculate the product of all elements in a list.\n"
   ]
  },
  {
   "cell_type": "code",
   "execution_count": 25,
   "id": "730cad51",
   "metadata": {},
   "outputs": [
    {
     "name": "stdout",
     "output_type": "stream",
     "text": [
      "The product of [2, 3, 4, 5] is: 120\n"
     ]
    }
   ],
   "source": [
    "def calculate_product(lst):\n",
    "    product = 1\n",
    "    for num in lst:\n",
    "        product *= num\n",
    "    return product\n",
    "\n",
    "\n",
    "# Test the function\n",
    "numbers = [2, 3, 4, 5]\n",
    "result = calculate_product(numbers)\n",
    "print(f\"The product of {numbers} is: {result}\")\n"
   ]
  },
  {
   "cell_type": "markdown",
   "id": "f55027ea",
   "metadata": {},
   "source": [
    "37. Write a Python program to reverse the order of words in a sentence while preserving the word order.\n"
   ]
  },
  {
   "cell_type": "code",
   "execution_count": 26,
   "id": "b573a538",
   "metadata": {},
   "outputs": [
    {
     "name": "stdout",
     "output_type": "stream",
     "text": [
      "Enter a sentence: we friends love to hangout \n",
      "Reversed sentence: hangout to love friends we\n"
     ]
    }
   ],
   "source": [
    "def reverse_sentence(sentence):\n",
    "    # Split the sentence into words\n",
    "    words = sentence.split()\n",
    "\n",
    "    # Reverse the order of words\n",
    "    reversed_words = words[::-1]\n",
    "\n",
    "    # Join the reversed words to form the reversed sentence\n",
    "    reversed_sentence = \" \".join(reversed_words)\n",
    "\n",
    "    return reversed_sentence\n",
    "\n",
    "\n",
    "# Test the function\n",
    "input_sentence = input(\"Enter a sentence: \")\n",
    "reversed_sentence = reverse_sentence(input_sentence)\n",
    "print(\"Reversed sentence:\", reversed_sentence)\n"
   ]
  },
  {
   "cell_type": "markdown",
   "id": "e951a178",
   "metadata": {},
   "source": [
    "38. Implement a function to find the missing number in a given list of consecutive numbers.\n"
   ]
  },
  {
   "cell_type": "code",
   "execution_count": 27,
   "id": "2714774e",
   "metadata": {},
   "outputs": [
    {
     "name": "stdout",
     "output_type": "stream",
     "text": [
      "Missing number: 4\n"
     ]
    }
   ],
   "source": [
    "def find_missing_number(numbers):\n",
    "    n = len(numbers) + 1\n",
    "    expected_sum = (n * (n + 1)) // 2\n",
    "    actual_sum = sum(numbers)\n",
    "    missing_number = expected_sum - actual_sum\n",
    "    return missing_number\n",
    "\n",
    "\n",
    "# Test the function\n",
    "input_list = [1, 2, 3, 5, 6, 7, 8, 9]\n",
    "missing_number = find_missing_number(input_list)\n",
    "print(\"Missing number:\", missing_number)\n"
   ]
  },
  {
   "cell_type": "markdown",
   "id": "534a12d5",
   "metadata": {},
   "source": [
    "39. Write a program to find the sum of digits of a given number.\n"
   ]
  },
  {
   "cell_type": "code",
   "execution_count": 28,
   "id": "0bfb1396",
   "metadata": {},
   "outputs": [
    {
     "name": "stdout",
     "output_type": "stream",
     "text": [
      "Enter a number: 897\n",
      "The sum of the digits of 897 is: 24\n"
     ]
    }
   ],
   "source": [
    "def sum_of_digits(number):\n",
    "    # Convert the number to a string\n",
    "    number_str = str(number)\n",
    "\n",
    "    # Initialize the sum\n",
    "    digit_sum = 0\n",
    "\n",
    "    # Iterate over each digit in the number\n",
    "    for digit in number_str:\n",
    "        # Convert the digit back to an integer and add it to the sum\n",
    "        digit_sum += int(digit)\n",
    "\n",
    "    return digit_sum\n",
    "\n",
    "\n",
    "# Test the function\n",
    "num = int(input(\"Enter a number: \"))\n",
    "result = sum_of_digits(num)\n",
    "print(f\"The sum of the digits of {num} is: {result}\")\n"
   ]
  },
  {
   "cell_type": "markdown",
   "id": "31741b7c",
   "metadata": {},
   "source": [
    "40. Implement a function to check if a given string is a valid palindrome considering case sensitivity.\n"
   ]
  },
  {
   "cell_type": "code",
   "execution_count": 29,
   "id": "04be7561",
   "metadata": {},
   "outputs": [
    {
     "name": "stdout",
     "output_type": "stream",
     "text": [
      "Enter a string: tahani , asma, saqlain, rida , bushra\n",
      "tahani , asma, saqlain, rida , bushra is not a valid palindrome.\n"
     ]
    }
   ],
   "source": [
    "def is_palindrome(string):\n",
    "    # Remove spaces and convert to lowercase\n",
    "    string = string.replace(\" \", \"\").lower()\n",
    "\n",
    "    # Check if the string is equal to its reverse\n",
    "    return string == string[::-1]\n",
    "\n",
    "\n",
    "# Test the function\n",
    "input_string = input(\"Enter a string: \")\n",
    "if is_palindrome(input_string):\n",
    "    print(f\"{input_string} is a valid palindrome.\")\n",
    "else:\n",
    "    print(f\"{input_string} is not a valid palindrome.\")\n"
   ]
  },
  {
   "cell_type": "markdown",
   "id": "1f493655",
   "metadata": {},
   "source": [
    "41. Write a Python program to find the smallest missing positive integer in a list.\n"
   ]
  },
  {
   "cell_type": "code",
   "execution_count": 31,
   "id": "cbaff73b",
   "metadata": {},
   "outputs": [
    {
     "name": "stdout",
     "output_type": "stream",
     "text": [
      "Smallest missing positive integer: 3\n"
     ]
    }
   ],
   "source": [
    "def find_smallest_missing_positive(lst):\n",
    "    # Separate positive numbers from non-positive numbers\n",
    "    positive_nums = [num for num in lst if num > 0]\n",
    "\n",
    "    # If there are no positive numbers, the smallest missing positive is 1\n",
    "    if not positive_nums:\n",
    "        return 1\n",
    "\n",
    "    # Sort the positive numbers\n",
    "    positive_nums.sort()\n",
    "\n",
    "    # Find the smallest missing positive\n",
    "    smallest_missing = 1\n",
    "    for num in positive_nums:\n",
    "        if num == smallest_missing:\n",
    "            smallest_missing += 1\n",
    "        elif num > smallest_missing:\n",
    "            return smallest_missing\n",
    "\n",
    "    return smallest_missing\n",
    "\n",
    "\n",
    "# Test the function\n",
    "numbers = [-3, 2, 1, 5, 0, -1, 4]\n",
    "result = find_smallest_missing_positive(numbers)\n",
    "print(\"Smallest missing positive integer:\", result)\n",
    "\n"
   ]
  },
  {
   "cell_type": "markdown",
   "id": "bd3c0988",
   "metadata": {},
   "source": [
    "42. Implement a function to find the longest palindrome substring in a given string.\n"
   ]
  },
  {
   "cell_type": "code",
   "execution_count": 32,
   "id": "be8a8a97",
   "metadata": {},
   "outputs": [
    {
     "name": "stdout",
     "output_type": "stream",
     "text": [
      "Enter a string: we are having lunch together \n",
      "Longest palindrome substring: w\n"
     ]
    }
   ],
   "source": [
    "def longest_palindrome_substring(string):\n",
    "    # Function to expand around a center\n",
    "    def expand_around_center(left, right):\n",
    "        while left >= 0 and right < len(string) and string[left] == string[right]:\n",
    "            left -= 1\n",
    "            right += 1\n",
    "        return string[left + 1 : right]\n",
    "\n",
    "    # Initialize variables\n",
    "    longest_palindrome = \"\"\n",
    "    max_length = 0\n",
    "\n",
    "    # Iterate over each character as potential center\n",
    "    for i in range(len(string)):\n",
    "        # Check for odd-length palindromes\n",
    "        palindrome_odd = expand_around_center(i, i)\n",
    "        if len(palindrome_odd) > max_length:\n",
    "            longest_palindrome = palindrome_odd\n",
    "            max_length = len(palindrome_odd)\n",
    "\n",
    "        # Check for even-length palindromes\n",
    "        palindrome_even = expand_around_center(i, i + 1)\n",
    "        if len(palindrome_even) > max_length:\n",
    "            longest_palindrome = palindrome_even\n",
    "            max_length = len(palindrome_even)\n",
    "\n",
    "    return longest_palindrome\n",
    "\n",
    "\n",
    "# Test the function\n",
    "input_string = input(\"Enter a string: \")\n",
    "result = longest_palindrome_substring(input_string)\n",
    "print(\"Longest palindrome substring:\", result)\n"
   ]
  },
  {
   "cell_type": "markdown",
   "id": "89bc04f5",
   "metadata": {},
   "source": [
    "43. Write a program to find the number of occurrences of a given element in a list.\n"
   ]
  },
  {
   "cell_type": "code",
   "execution_count": 33,
   "id": "07583279",
   "metadata": {},
   "outputs": [
    {
     "name": "stdout",
     "output_type": "stream",
     "text": [
      "The number of occurrences of 2 is: 4\n"
     ]
    }
   ],
   "source": [
    "def count_occurrences(lst, element):\n",
    "    count = 0\n",
    "    for item in lst:\n",
    "        if item == element:\n",
    "            count += 1\n",
    "    return count\n",
    "\n",
    "\n",
    "# Test the function\n",
    "numbers = [1, 2, 3, 4, 2, 5, 2, 2, 6]\n",
    "target = 2\n",
    "occurrences = count_occurrences(numbers, target)\n",
    "print(f\"The number of occurrences of {target} is: {occurrences}\")\n"
   ]
  },
  {
   "cell_type": "markdown",
   "id": "aa005b74",
   "metadata": {},
   "source": [
    "44. Implement a function to check if a given number is a perfect number.\n"
   ]
  },
  {
   "cell_type": "code",
   "execution_count": 34,
   "id": "5f68d169",
   "metadata": {},
   "outputs": [
    {
     "name": "stdout",
     "output_type": "stream",
     "text": [
      "Enter a number: 89\n",
      "89 is not a perfect number.\n"
     ]
    }
   ],
   "source": [
    "def is_perfect_number(number):\n",
    "    if number <= 0:\n",
    "        return False\n",
    "\n",
    "    divisors = [1]  # Start with 1 as a divisor\n",
    "\n",
    "    # Find divisors up to the square root of the number\n",
    "    for i in range(2, int(number ** 0.5) + 1):\n",
    "        if number % i == 0:\n",
    "            divisors.append(i)\n",
    "            if i != number // i:\n",
    "                divisors.append(number // i)\n",
    "\n",
    "    # Check if the sum of divisors equals the number\n",
    "    return sum(divisors) == number\n",
    "\n",
    "\n",
    "# Test the function\n",
    "num = int(input(\"Enter a number: \"))\n",
    "if is_perfect_number(num):\n",
    "    print(f\"{num} is a perfect number.\")\n",
    "else:\n",
    "    print(f\"{num} is not a perfect number.\")\n"
   ]
  },
  {
   "cell_type": "markdown",
   "id": "dcffa1e2",
   "metadata": {},
   "source": [
    "45. Write a Python program to remove all duplicates from a string.\n"
   ]
  },
  {
   "cell_type": "code",
   "execution_count": 35,
   "id": "56a33834",
   "metadata": {},
   "outputs": [
    {
     "name": "stdout",
     "output_type": "stream",
     "text": [
      "Enter a string: climate is so good\n",
      "String with duplicates removed: climate sogd\n"
     ]
    }
   ],
   "source": [
    "def remove_duplicates(string):\n",
    "    # Convert the string to a list of characters\n",
    "    chars = list(string)\n",
    "\n",
    "    # Create a set to store unique characters\n",
    "    unique_chars = set()\n",
    "\n",
    "    # Iterate over the characters in the list\n",
    "    # and add them to the set if they are not already present\n",
    "    # (sets automatically remove duplicates)\n",
    "    result = []\n",
    "    for char in chars:\n",
    "        if char not in unique_chars:\n",
    "            result.append(char)\n",
    "            unique_chars.add(char)\n",
    "\n",
    "    # Join the list of unique characters back into a string\n",
    "    return ''.join(result)\n",
    "\n",
    "\n",
    "# Test the function\n",
    "input_string = input(\"Enter a string: \")\n",
    "result = remove_duplicates(input_string)\n",
    "print(\"String with duplicates removed:\", result)\n"
   ]
  },
  {
   "cell_type": "markdown",
   "id": "7254ecda",
   "metadata": {},
   "source": [
    "46. Implement a function to find the first missing positive"
   ]
  },
  {
   "cell_type": "code",
   "execution_count": 36,
   "id": "444f33b9",
   "metadata": {},
   "outputs": [
    {
     "name": "stdout",
     "output_type": "stream",
     "text": [
      "First missing positive: 2\n"
     ]
    }
   ],
   "source": [
    "def find_first_missing_positive(nums):\n",
    "    n = len(nums)\n",
    "\n",
    "    # Move all non-positive integers to the end of the list\n",
    "    i = 0\n",
    "    while i < n:\n",
    "        if nums[i] <= 0 or nums[i] > n:\n",
    "            nums[i], nums[n - 1] = nums[n - 1], nums[i]\n",
    "            n -= 1\n",
    "        else:\n",
    "            i += 1\n",
    "\n",
    "    # Iterate over the positive integers and mark their presence\n",
    "    for i in range(n):\n",
    "        num = abs(nums[i])\n",
    "        if num <= n:\n",
    "            nums[num - 1] = -abs(nums[num - 1])\n",
    "\n",
    "    # Find the first missing positive integer\n",
    "    for i in range(n):\n",
    "        if nums[i] > 0:\n",
    "            return i + 1\n",
    "\n",
    "    # If all positive integers are present, return n + 1\n",
    "    return n + 1\n",
    "\n",
    "\n",
    "# Test the function\n",
    "numbers = [3, 4, -1, 1]\n",
    "result = find_first_missing_positive(numbers)\n",
    "print(\"First missing positive:\", result)\n"
   ]
  },
  {
   "cell_type": "code",
   "execution_count": null,
   "id": "ae290719",
   "metadata": {},
   "outputs": [],
   "source": []
  }
 ],
 "metadata": {
  "kernelspec": {
   "display_name": "Python 3 (ipykernel)",
   "language": "python",
   "name": "python3"
  },
  "language_info": {
   "codemirror_mode": {
    "name": "ipython",
    "version": 3
   },
   "file_extension": ".py",
   "mimetype": "text/x-python",
   "name": "python",
   "nbconvert_exporter": "python",
   "pygments_lexer": "ipython3",
   "version": "3.9.12"
  }
 },
 "nbformat": 4,
 "nbformat_minor": 5
}
