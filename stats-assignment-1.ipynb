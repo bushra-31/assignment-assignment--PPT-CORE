{
 "cells": [
  {
   "cell_type": "markdown",
   "id": "b2ef9c5c",
   "metadata": {},
   "source": [
    "1. Scenario: A company wants to analyze the sales performance of its products in different regions. They have collected the following data:\n",
    "   Region A: [10, 15, 12, 8, 14]\n",
    "   Region B: [18, 20, 16, 22, 25]\n",
    "   Calculate the mean sales for each region.\n",
    "\n"
   ]
  },
  {
   "cell_type": "markdown",
   "id": "3462497f",
   "metadata": {},
   "source": [
    "> Mean = Sum of all values / Number of values\n",
    ">\n",
    ">\n",
    "> For Region A: [10, 15, 12, 8, 14]\n",
    ">\n",
    ">\n",
    "> Sum of all values: 10 + 15 + 12 + 8 + 14 = 59\n",
    ">\n",
    ">\n",
    "> Number of values: 5\n",
    "> Mean sales for Region A = 59 / 5 = 11.8\n",
    ">\n",
    ">\n",
    "> For Region B: [18, 20, 16, 22, 25]\n",
    ">\n",
    ">\n",
    "> Sum of all values: 18 + 20 + 16 + 22 + 25 = 101\n",
    "> Number of values: 5\n",
    "> Mean sales for Region B = 101 / 5 = 20.2\n",
    ">\n",
    ">\n",
    "> Therefore, the mean sales for Region A is 11.8 and the mean sales for Region B is 20.2."
   ]
  },
  {
   "cell_type": "markdown",
   "id": "9a617d0b",
   "metadata": {},
   "source": [
    "2. Scenario: A survey is conducted to measure customer satisfaction on a scale of 1 to 5. The data collected is as follows:\n",
    "   [4, 5, 2, 3, 5, 4, 3, 2, 4, 5]\n",
    "   Calculate the mode of the survey responses.\n"
   ]
  },
  {
   "cell_type": "markdown",
   "id": "b7f8f6da",
   "metadata": {},
   "source": [
    "- As we can see, both 4 and 5 appear the most frequently, each occurring 3 times. Therefore, the mode of the survey responses is 4 and 5.\n",
    "\n",
    "- If there is only one value with the highest count, it is referred to as the \"unimodal\" mode. In this case, we have two values (4 and 5) with the same highest count, so it is referred to as a \"bimodal\" mode."
   ]
  },
  {
   "cell_type": "markdown",
   "id": "6688706e",
   "metadata": {},
   "source": [
    "3. Scenario: A company wants to compare the salaries of two departments. The salary data for Department A and Department B are as follows:\n",
    "   Department A: [5000, 6000, 5500, 7000]\n",
    "   Department B: [4500, 5500, 5800, 6000, 5200]\n",
    "   Calculate the median salary for each department.\n"
   ]
  },
  {
   "cell_type": "markdown",
   "id": "4cddd1d7",
   "metadata": {},
   "source": [
    "For Department A: [5000, 6000, 5500, 7000]\n",
    "\n",
    "- Sort the salaries in ascending order: [5000, 5500, 6000, 7000]\n",
    "- The number of values is even(4), so the median is the average of two middle values: (5500+6000)/2 = 5750\n",
    "- The median salary for Department A is 5750.\n",
    "\n",
    "- For Department B: [4500, 5500, 5800, 6000, 5200]\n",
    "\n",
    "- Sort the salaries in ascending order: [4500, 5200, 5500, 5800, 6000]\n",
    "- The number of values is odd (5), so the median is the middle value: 5500\n",
    "- The median salary for Department B is 5500."
   ]
  },
  {
   "cell_type": "markdown",
   "id": "75d57290",
   "metadata": {},
   "source": [
    "4. Scenario: A data analyst wants to determine the variability in the daily stock prices of a company. The data collected is as follows:\n",
    "   [25.5, 24.8, 26.1, 25.3, 24.9]\n",
    "   Calculate the range of the stock prices.\n"
   ]
  },
  {
   "cell_type": "markdown",
   "id": "a30a9c98",
   "metadata": {},
   "source": [
    "To calculate the range:\n",
    "\n",
    "- Sort the stock prices in ascending order: [24.8, 24.9, 25.3, 25.5, 26.1]\n",
    "- The minimum value is 24.8 (the first element in the sorted list).\n",
    "- The maximum value is 26.1 (the last element in the sorted list).\n",
    "- Calculate the range by subtracting the minimum from the maximum: 26.1 - 24.8 = 1.3\n",
    "- Therefore, the range of the daily stock prices is 1.3."
   ]
  },
  {
   "cell_type": "markdown",
   "id": "77234555",
   "metadata": {},
   "source": [
    "5. Scenario: A study is conducted to compare the performance of two different teaching methods. The test scores of the students in each group are as follows:\n",
    "   Group A: [85, 90, 92, 88, 91]\n",
    "   Group B: [82, 88, 90, 86, 87]\n",
    "   Perform a t-test to determine if there is a significant difference in the mean scores between the two groups.\n",
    "\n"
   ]
  },
  {
   "cell_type": "code",
   "execution_count": 1,
   "id": "a6c11502",
   "metadata": {},
   "outputs": [
    {
     "name": "stdout",
     "output_type": "stream",
     "text": [
      "t-value: 1.4312528946642733\n",
      "p-value: 0.19023970239078333\n"
     ]
    }
   ],
   "source": [
    "import scipy.stats as stats\n",
    "\n",
    "group_a = [85, 90, 92, 88, 91]\n",
    "group_b = [82, 88, 90, 86, 87]\n",
    "\n",
    "t_value, p_value = stats.ttest_ind(group_a, group_b)\n",
    "\n",
    "print(\"t-value:\", t_value)\n",
    "print(\"p-value:\", p_value)\n",
    "\n"
   ]
  },
  {
   "cell_type": "markdown",
   "id": "76ecdc21",
   "metadata": {},
   "source": [
    "- The t-value represents the magnitude of the difference between the means of the two groups.\n",
    "- The p-value indicates the probability of observing the difference (or more extreme) by chance alone, assuming the null hypothesis is true.\n",
    "- If the p-value is less than the chosen significance level (e.g., 0.05), we reject the null hypothesis and conclude that there is a significant difference in the mean scores between the two groups.\n",
    "- Therefore, by performing the t-test using the provided test scores for Group A and Group B, you can obtain the t-value and p-value to determine if there is a significant difference in the mean scores between the two groups"
   ]
  },
  {
   "cell_type": "markdown",
   "id": "5f95dead",
   "metadata": {},
   "source": [
    "6. Scenario: A company wants to analyze the relationship between advertising expenditure and sales. The data collected is as follows:\n",
    "   Advertising Expenditure (in thousands): [10, 15, 12, 8, 14]\n",
    "   Sales (in thousands): [25, 30, 28, 20, 26]\n",
    "   Calculate the correlation coefficient between advertising expenditure and sales.\n"
   ]
  },
  {
   "cell_type": "code",
   "execution_count": 2,
   "id": "03316c58",
   "metadata": {},
   "outputs": [
    {
     "name": "stdout",
     "output_type": "stream",
     "text": [
      "Correlation Coefficient: 0.8757511375750135\n"
     ]
    }
   ],
   "source": [
    "import numpy as np\n",
    "import scipy.stats as stats\n",
    "advertising_expenditure = [10, 15, 12, 8, 14]\n",
    "sales = [25, 30, 28, 20, 26]\n",
    "correlation_coefficient, _ = stats.pearsonr(advertising_expenditure, sales)\n",
    "print(\"Correlation Coefficient:\", correlation_coefficient)\n"
   ]
  },
  {
   "cell_type": "markdown",
   "id": "601c031c",
   "metadata": {},
   "source": [
    "- The correlation coefficient ranges from -1 to +1. A positive value indicates a positive correlation, meaning that as one variable increases, the other variable also tends to increase. A negative value indicates a negative correlation, meaning that as one variable increases, the other variable tends to decrease. A value close to 0 indicates a weak or no linear relationship between the variables."
   ]
  },
  {
   "cell_type": "markdown",
   "id": "2e57acef",
   "metadata": {},
   "source": [
    "7. Scenario: A survey is conducted to measure the heights of a group of people. The data collected is as follows:\n",
    "   [160, 170, 165, 155, 175, 180, 170]\n",
    "   Calculate the standard deviation of the heights.\n"
   ]
  },
  {
   "cell_type": "code",
   "execution_count": 3,
   "id": "9ba0bdf0",
   "metadata": {},
   "outputs": [
    {
     "name": "stdout",
     "output_type": "stream",
     "text": [
      "Standard Deviation of Heights: 7.953949089757174\n"
     ]
    }
   ],
   "source": [
    "import math\n",
    "\n",
    "heights = [160, 170, 165, 155, 175, 180, 170]\n",
    "\n",
    "# Step 1: Calculate the mean\n",
    "mean_height = sum(heights) / len(heights)\n",
    "\n",
    "# Step 2: Calculate the differences between each height and the mean\n",
    "differences = [height - mean_height for height in heights]\n",
    "\n",
    "# Step 3: Square each difference\n",
    "squared_differences = [diff ** 2 for diff in differences]\n",
    "\n",
    "# Step 4: Calculate the mean of the squared differences\n",
    "mean_squared_diff = sum(squared_differences) / len(heights)\n",
    "\n",
    "# Step 5: Calculate the standard deviation (square root of the mean squared differences)\n",
    "standard_deviation = math.sqrt(mean_squared_diff)\n",
    "\n",
    "print(\"Standard Deviation of Heights:\", standard_deviation)\n"
   ]
  },
  {
   "cell_type": "markdown",
   "id": "200b124f",
   "metadata": {},
   "source": [
    "8. Scenario: A company wants to analyze the relationship between employee tenure and job satisfaction. The data collected is as follows:\n",
    "   Employee Tenure (in years): [2, 3, 5, 4, 6, 2, 4]\n",
    "   Job Satisfaction (on a scale of 1 to 10): [7, 8, 6, 9, 5, 7, 6]\n",
    "   Perform a linear regression analysis to predict job satisfaction based on employee tenure.\n"
   ]
  },
  {
   "cell_type": "code",
   "execution_count": 5,
   "id": "8e8ca975",
   "metadata": {},
   "outputs": [
    {
     "name": "stdout",
     "output_type": "stream",
     "text": [
      "Regression Equation: job_satisfaction = -0.4680851063829787 * employee_tenure + 8.595744680851062\n"
     ]
    }
   ],
   "source": [
    "import numpy as np\n",
    "from sklearn.linear_model import LinearRegression\n",
    "employee_tenure = np.array([2, 3, 5, 4, 6, 2, 4]).reshape(-1, 1)\n",
    "job_satisfaction = np.array([7, 8, 6, 9, 5, 7, 6])\n",
    "model = LinearRegression()\n",
    "model.fit(employee_tenure, job_satisfaction)\n",
    "slope = model.coef_[0]\n",
    "intercept = model.intercept_\n",
    "print(\"Regression Equation: job_satisfaction =\", slope, \"* employee_tenure +\", intercept)\n"
   ]
  },
  {
   "cell_type": "markdown",
   "id": "bdc7efe3",
   "metadata": {},
   "source": [
    "- the regression equation represents the relationship between employee tenure and job satisfaction. The slope coefficient indicates how much the job satisfaction is expected to change for each unit change in employee tenure. The intercept term represents the expected job satisfaction when the employee tenure is zero."
   ]
  },
  {
   "cell_type": "markdown",
   "id": "f8fc9d32",
   "metadata": {},
   "source": [
    "\n",
    "9. Scenario: A study is conducted to compare the effectiveness of two different medications. The recovery times of the patients in each group are as follows:\n",
    "   Medication A: [10, 12, 14, 11, 13]\n",
    "   Medication B: [15, 17, 16, 14, 18]\n",
    "   Perform an analysis of variance (ANOVA) to determine if there is a significant difference in the mean recovery times between the two medications.\n",
    "\n"
   ]
  },
  {
   "cell_type": "code",
   "execution_count": 6,
   "id": "087a77db",
   "metadata": {},
   "outputs": [
    {
     "name": "stdout",
     "output_type": "stream",
     "text": [
      "F-value: 16.0\n",
      "p-value: 0.003949772803445326\n"
     ]
    }
   ],
   "source": [
    "import scipy.stats as stats\n",
    "medication_a = [10, 12, 14, 11, 13]\n",
    "medication_b = [15, 17, 16, 14, 18]\n",
    "f_value, p_value = stats.f_oneway(medication_a, medication_b)\n",
    "print(\"F-value:\", f_value)\n",
    "print(\"p-value:\", p_value)\n"
   ]
  },
  {
   "cell_type": "markdown",
   "id": "596fd32b",
   "metadata": {},
   "source": [
    "- Therefore, by performing the ANOVA test using the provided recovery times for Medication A and Medication B, you can obtain the F-value and p-value to determine if there is a significant difference in the mean recovery times between the two medications.\n",
    "\n",
    "- The F-value represents the ratio of between-group variance to within-group variance. The p-value indicates the probability of observing the differences (or more extreme) in means among the groups by chance alone, assuming the null hypothesis is true. If the p-value is less than the chosen significance level (e.g., 0.05), we reject the null hypothesis and conclude that there is a significant difference in the mean recovery times between the two medications."
   ]
  },
  {
   "cell_type": "markdown",
   "id": "7aac2868",
   "metadata": {},
   "source": [
    "10. Scenario: A company wants to analyze customer feedback ratings on a scale of 1 to 10. The data collected is\n",
    "\n",
    " as follows:\n",
    "    [8, 9, 7, 6, 8, 10, 9, 8, 7, 8]\n",
    "    Calculate the 75th percentile of the feedback ratings.\n",
    "\n"
   ]
  },
  {
   "cell_type": "markdown",
   "id": "d7ecb787",
   "metadata": {},
   "source": [
    "- To calculate the 75th percentile of the feedback ratings, we need to find the value below which 75% of the data falls. In other words, we need to find the value that separates the lowest 75% of the data from the highest 25%.\n",
    "\n",
    "- Here are the steps to calculate the 75th percentile:\n",
    "\n",
    "- Step 1: Sort the feedback ratings in ascending order: [6, 7, 7, 8, 8, 8, 8, 9, 9, 10]\n",
    "\n",
    "- Step 2: Calculate the index corresponding to the 75th percentile:\n",
    "\n",
    "- The index is calculated as (75 / 100) * (n + 1), where n is the total number of data points.\n",
    "- In this case, n = 10, so the index is (75 / 100) * (10 + 1) = 8.25\n",
    "- Step 3: Determine the value at the calculated index:\n",
    "\n",
    "- Since the index is not an integer, we need to interpolate between the values at index 8 and index 9.\n",
    "- The value at index 8 is 8, and the value at index 9 is 9.\n",
    "- Interpolation formula: value at index 8 + (fractional part of the index) * (value at index 9 - value at index 8)\n",
    "- Using the above steps, we can calculate the 75th percentile:\n",
    "\n",
    "- value at index 8 + (0.25) * (value at index 9 - value at index 8)\n",
    "    = 8 + (0.25) * (9 - 8)\n",
    "    = 8 + (0.25)\n",
    "    = 8.25\n",
    "\n",
    "- Therefore, the 75th percentile of the feedback ratings is 8.25.\n",
    "\n",
    "\n",
    "\n",
    "\n",
    "\n",
    "\n"
   ]
  },
  {
   "cell_type": "markdown",
   "id": "4eaa1196",
   "metadata": {},
   "source": [
    "11. Scenario: A quality control department wants to test the weight consistency of a product. The weights of a sample of products are as follows:\n",
    "    [10.2, 9.8, 10.0, 10.5, 10.3, 10.1]\n",
    "    Perform a hypothesis test to determine if the mean weight differs significantly from 10 grams.\n"
   ]
  },
  {
   "cell_type": "code",
   "execution_count": 7,
   "id": "d10e04d6",
   "metadata": {},
   "outputs": [
    {
     "name": "stdout",
     "output_type": "stream",
     "text": [
      "t-statistic: 1.5126584522688367\n",
      "p-value: 0.19077595151110102\n"
     ]
    }
   ],
   "source": [
    "import scipy.stats as stats\n",
    "weights = [10.2, 9.8, 10.0, 10.5, 10.3, 10.1]\n",
    "t_statistic, p_value = stats.ttest_1samp(weights, 10)\n",
    "print(\"t-statistic:\", t_statistic)\n",
    "print(\"p-value:\", p_value)\n"
   ]
  },
  {
   "cell_type": "markdown",
   "id": "213bfd0f",
   "metadata": {},
   "source": [
    "- Therefore, by performing the one-sample t-test using the provided weights data and comparing the mean to 10 grams, you can obtain the t-statistic and p-value to determine if the mean weight significantly differs from 10 grams.\n",
    "\n",
    "- The t-statistic represents the difference between the sample mean and the hypothesized population mean (10 grams) in terms of standard errors. The p-value indicates the probability of observing the difference (or more extreme) by chance alone, assuming the null hypothesis is true. If the p-value is less than the chosen significance level (e.g., 0.05), we reject the null hypothesis and conclude that the mean weight differs significantly from 10 grams."
   ]
  },
  {
   "cell_type": "markdown",
   "id": "24ccbaf0",
   "metadata": {},
   "source": [
    "12. Scenario: A company wants to analyze the click-through rates of two different website designs. The number of clicks for each design is as follows:\n",
    "    Design A: [100, 120, 110, 90, 95]\n",
    "    Design B: [80, 85, 90, 95, 100]\n",
    "    Perform a chi-square test to determine if there is a significant difference in the click-through rates between the two designs.\n"
   ]
  },
  {
   "cell_type": "code",
   "execution_count": 8,
   "id": "311cd216",
   "metadata": {},
   "outputs": [
    {
     "name": "stdout",
     "output_type": "stream",
     "text": [
      "Chi-square statistic: 6.110658166925435\n",
      "p-value: 0.19103526314060293\n"
     ]
    }
   ],
   "source": [
    "import scipy.stats as stats\n",
    "design_a = [100, 120, 110, 90, 95]\n",
    "design_b = [80, 85, 90, 95, 100]\n",
    "contingency_table = [design_a, design_b]\n",
    "chi2_statistic, p_value, _, _ = stats.chi2_contingency(contingency_table)\n",
    "print(\"Chi-square statistic:\", chi2_statistic)\n",
    "print(\"p-value:\", p_value)\n"
   ]
  },
  {
   "cell_type": "markdown",
   "id": "c5bd84b4",
   "metadata": {},
   "source": [
    "- Therefore, by performing the chi-square test using the provided click counts for Design A and Design B, you can obtain the chi-square statistic and p-value to determine if there is a significant difference in the click-through rates between the two designs.\n",
    "\n",
    "- The chi-square statistic measures the discrepancy between the observed and expected frequencies in the contingency table. The p-value indicates the probability of observing the discrepancy (or more extreme) by chance alone, assuming the null hypothesis of independence is true. If the p-value is less than the chosen significance level (e.g., 0.05), we reject the null hypothesis and conclude that there is a significant difference in the click-through rates between the two designs."
   ]
  },
  {
   "cell_type": "markdown",
   "id": "0aad3280",
   "metadata": {},
   "source": [
    "13. Scenario: A survey is conducted to measure customer satisfaction with a product on a scale of 1 to 10. The data collected is as follows:\n",
    "    [7, 9, 6, 8, 10, 7, 8, 9, 7, 8]\n",
    "    Calculate the 95% confidence interval for the population mean satisfaction score.\n"
   ]
  },
  {
   "cell_type": "code",
   "execution_count": 10,
   "id": "727f57fe",
   "metadata": {},
   "outputs": [
    {
     "name": "stdout",
     "output_type": "stream",
     "text": [
      "95% Confidence Interval: (7.043561120599888, 8.756438879400113)\n"
     ]
    }
   ],
   "source": [
    "import numpy as np\n",
    "import scipy.stats as stats\n",
    "satisfaction_scores = [7, 9, 6, 8, 10, 7, 8, 9, 7, 8]\n",
    "sample_mean = np.mean(satisfaction_scores)\n",
    "sample_std = np.std(satisfaction_scores, ddof=1)  # ddof=1 for sample standard deviation\n",
    "standard_error = sample_std / np.sqrt(len(satisfaction_scores))\n",
    "critical_value = stats.t.ppf(0.975, df=len(satisfaction_scores)-1)\n",
    "confidence_interval = (sample_mean - critical_value * standard_error,\n",
    "                      sample_mean + critical_value * standard_error)\n",
    "\n",
    "print(\"95% Confidence Interval:\", confidence_interval)\n"
   ]
  },
  {
   "cell_type": "markdown",
   "id": "4e171262",
   "metadata": {},
   "source": [
    "- Therefore, by performing the steps mentioned above using the provided satisfaction data, you can calculate the 95% confidence interval for the population mean satisfaction score.\n",
    "\n",
    "- The confidence interval provides a range within which we can be 95% confident that the true population mean satisfaction score lies."
   ]
  },
  {
   "cell_type": "markdown",
   "id": "727e7dac",
   "metadata": {},
   "source": [
    "14. Scenario: A company wants to analyze the effect of temperature on product performance. The data collected is as follows:\n",
    "    Temperature (in degrees Celsius): [20, 22, 23, 19, 21]\n",
    "    Performance (on a scale of 1 to 10): [8, 7, 9, 6, 8]\n",
    "    Perform a simple linear regression to predict performance based on temperature.\n"
   ]
  },
  {
   "cell_type": "code",
   "execution_count": 11,
   "id": "b4d9a539",
   "metadata": {},
   "outputs": [
    {
     "name": "stdout",
     "output_type": "stream",
     "text": [
      "Regression Equation: performance = 0.4999999999999999 * temperature + -2.8999999999999986\n"
     ]
    }
   ],
   "source": [
    "import numpy as np\n",
    "from sklearn.linear_model import LinearRegression\n",
    "temperature = np.array([20, 22, 23, 19, 21]).reshape(-1, 1)\n",
    "performance = np.array([8, 7, 9, 6, 8])\n",
    "model = LinearRegression()\n",
    "model.fit(temperature, performance)\n",
    "slope = model.coef_[0]\n",
    "intercept = model.intercept_\n",
    "print(\"Regression Equation: performance =\", slope, \"* temperature +\", intercept)\n"
   ]
  },
  {
   "cell_type": "markdown",
   "id": "87cb1971",
   "metadata": {},
   "source": [
    "- Therefore, by performing the steps mentioned above using the provided temperature and performance data, you can obtain the regression equation and make predictions on performance based on temperature.\n",
    "\n",
    "- The regression equation represents the relationship between temperature and performance. The slope coefficient indicates how much the performance is expected to change for each unit change in temperature. The intercept term represents the expected performance when the temperature is zero (which may not have practical meaning in this context)."
   ]
  },
  {
   "cell_type": "markdown",
   "id": "b616e697",
   "metadata": {},
   "source": [
    "15. Scenario: A study is conducted to compare the preferences of two groups of participants. The preferences are measured on a Likert scale from 1 to 5. The data collected is as follows:\n",
    "    Group A: [4, 3, 5, 2, 4]\n",
    "    Group B: [3, 2, 4, 3, 3]\n",
    "    Perform a Mann-Whitney U test to determine if there is a significant difference in the median preferences between the two groups.\n"
   ]
  },
  {
   "cell_type": "code",
   "execution_count": 12,
   "id": "3d216182",
   "metadata": {},
   "outputs": [
    {
     "name": "stdout",
     "output_type": "stream",
     "text": [
      "U-statistic: 17.0\n",
      "p-value: 0.380836480306712\n"
     ]
    }
   ],
   "source": [
    "import scipy.stats as stats\n",
    "group_a = [4, 3, 5, 2, 4]\n",
    "group_b = [3, 2, 4, 3, 3]\n",
    "u_statistic, p_value = stats.mannwhitneyu(group_a, group_b, alternative='two-sided')\n",
    "print(\"U-statistic:\", u_statistic)\n",
    "print(\"p-value:\", p_value)\n"
   ]
  },
  {
   "cell_type": "markdown",
   "id": "2a5cf1bc",
   "metadata": {},
   "source": [
    "- Therefore, by performing the Mann-Whitney U test using the provided preference data for Group A and Group B, you can obtain the U-statistic and p-value to determine if there is a significant difference in the median preferences between the two groups.\n",
    "\n",
    "- The U-statistic represents the Mann-Whitney U test statistic, which compares the ranks of the observations between the two groups. The p-value indicates the probability of observing the difference (or more extreme) in medians among the groups by chance alone, assuming the null hypothesis is true. If the p-value is less than the chosen significance level (e.g., 0.05), we reject the null hypothesis and conclude that there is a significant difference in the median preferences between the two groups."
   ]
  },
  {
   "cell_type": "markdown",
   "id": "2f22a3a4",
   "metadata": {},
   "source": [
    "16. Scenario: A company wants to analyze the distribution of customer ages. The data collected is as follows:\n",
    "    [25, 30, 35, 40, 45, 50, 55, 60, 65, 70]\n",
    "    Calculate the interquartile range (IQR) of the ages.\n",
    "\n"
   ]
  },
  {
   "cell_type": "markdown",
   "id": "8bffbdba",
   "metadata": {},
   "source": [
    "To calculate the interquartile range (IQR) of the ages, we need to find the range between the first quartile (Q1) and the third quartile (Q3) in the given data.\n",
    "\n",
    "- Here are the steps to calculate the IQR:\n",
    "\n",
    "#### Step 1: Sort the age data in ascending order: [25, 30, 35, 40, 45, 50, 55, 60, 65, 70].\n",
    "\n",
    "#### Step 2: Calculate the first quartile (Q1):\n",
    "\n",
    "- Q1 is the median of the lower half of the data.\n",
    "- If the number of data points is odd, Q1 is the middle value of the lower half.\n",
    "- If the number of data points is even, Q1 is the average of the two middle values.\n",
    "- In this case, Q1 is the median of [25, 30, 35, 40, 45], which is 35.\n",
    "\n",
    "#### Step 3: Calculate the third quartile (Q3):\n",
    "\n",
    "- Q3 is the median of the upper half of the data.\n",
    "- If the number of data points is odd, Q3 is the middle value of the upper half.\n",
    "- If the number of data points is even, Q3 is the average of the two middle values.\n",
    "- In this case, Q3 is the median of [50, 55, 60, 65, 70], which is 60.\n",
    "\n",
    "#### Step 4: Calculate the IQR:\n",
    "\n",
    "- IQR is the range between Q1 and Q3.\n",
    "- IQR = Q3 - Q1 = 60 - 35 = 25.\n",
    "- Therefore, the interquartile range (IQR) of the ages is 25."
   ]
  },
  {
   "cell_type": "markdown",
   "id": "ca514f69",
   "metadata": {},
   "source": [
    "17. Scenario: A study is conducted to compare the performance of three different machine learning algorithms. The accuracy scores for each algorithm are as follows:\n",
    "    Algorithm A: [0.85, 0.80, 0.82, 0.87, 0.83]\n",
    "    Algorithm B: [0.78, 0.82, 0.84, 0.80, 0.79]\n",
    "    Algorithm C: [0.90, 0.88, 0.89, 0.86, 0.87]\n",
    "    Perform a Kruskal-Wallis test to determine if there is a significant difference in the median accuracy scores between the algorithms.\n"
   ]
  },
  {
   "cell_type": "code",
   "execution_count": 13,
   "id": "90c75e50",
   "metadata": {},
   "outputs": [
    {
     "name": "stdout",
     "output_type": "stream",
     "text": [
      "H-statistic: 9.696947935368053\n",
      "p-value: 0.007840333026249539\n"
     ]
    }
   ],
   "source": [
    "import scipy.stats as stats\n",
    "algorithm_a = [0.85, 0.80, 0.82, 0.87, 0.83]\n",
    "algorithm_b = [0.78, 0.82, 0.84, 0.80, 0.79]\n",
    "algorithm_c = [0.90, 0.88, 0.89, 0.86, 0.87]\n",
    "h_statistic, p_value = stats.kruskal(algorithm_a, algorithm_b, algorithm_c)\n",
    "print(\"H-statistic:\", h_statistic)\n",
    "print(\"p-value:\", p_value)\n"
   ]
  },
  {
   "cell_type": "markdown",
   "id": "30ce8593",
   "metadata": {},
   "source": [
    "- Therefore, by performing the Kruskal-Wallis test using the provided accuracy scores for Algorithm A, Algorithm B, and Algorithm C, you can obtain the H-statistic and p-value to determine if there is a significant difference in the median accuracy scores between the algorithms.\n",
    "\n",
    "- The H-statistic represents the Kruskal-Wallis test statistic, which compares the ranks of the observations among the groups. The p-value indicates the probability of observing the difference (or more extreme) in medians among the groups by chance alone, assuming the null hypothesis is true. If the p-value is less than the chosen significance level (e.g., 0.05), we reject the null hypothesis and conclude that there is a significant difference in the median accuracy scores between the algorithms."
   ]
  },
  {
   "cell_type": "markdown",
   "id": "d3971219",
   "metadata": {},
   "source": [
    "18. Scenario: A company wants to analyze the effect of price on sales. The data collected is as follows:\n",
    "    Price (in dollars): [10, 15, 12, 8, 14]\n",
    "    Sales: [100, 80, 90, 110, 95]\n",
    "    Perform a simple linear regression to predict\n",
    "\n",
    " sales based on price.\n"
   ]
  },
  {
   "cell_type": "code",
   "execution_count": 14,
   "id": "4ae2755d",
   "metadata": {},
   "outputs": [
    {
     "name": "stdout",
     "output_type": "stream",
     "text": [
      "Regression Equation: sales = -3.5060975609756113 * price + 136.37195121951223\n"
     ]
    }
   ],
   "source": [
    "import numpy as np\n",
    "from sklearn.linear_model import LinearRegression\n",
    "price = np.array([10, 15, 12, 8, 14]).reshape(-1, 1)\n",
    "sales = np.array([100, 80, 90, 110, 95])\n",
    "model = LinearRegression()\n",
    "model.fit(price, sales)\n",
    "slope = model.coef_[0]\n",
    "intercept = model.intercept_\n",
    "print(\"Regression Equation: sales =\", slope, \"* price +\", intercept)\n"
   ]
  },
  {
   "cell_type": "markdown",
   "id": "3be99854",
   "metadata": {},
   "source": [
    "- Therefore, by performing the steps mentioned above using the provided price and sales data, you can obtain the regression equation and make predictions on sales based on price.\n",
    "\n",
    "- The regression equation represents the relationship between price and sales. The slope coefficient indicates how much the sales are expected to change for each unit change in price. The intercept term represents the expected sales when the price is zero (which may not have practical meaning in this context)."
   ]
  },
  {
   "cell_type": "markdown",
   "id": "9fc775dc",
   "metadata": {},
   "source": [
    "19. Scenario: A survey is conducted to measure the satisfaction levels of customers with a new product. The data collected is as follows:\n",
    "    [7, 8, 9, 6, 8, 7, 9, 7, 8, 7]\n",
    "    Calculate the standard error of the mean satisfaction score.\n"
   ]
  },
  {
   "cell_type": "code",
   "execution_count": 15,
   "id": "acd4e4aa",
   "metadata": {},
   "outputs": [
    {
     "name": "stdout",
     "output_type": "stream",
     "text": [
      "Standard Error of the Mean: 0.30550504633038933\n"
     ]
    }
   ],
   "source": [
    "import numpy as np\n",
    "satisfaction_scores = [7, 8, 9, 6, 8, 7, 9, 7, 8, 7]\n",
    "standard_deviation = np.std(satisfaction_scores, ddof=1)  # ddof=1 for sample standard deviation\n",
    "n = len(satisfaction_scores)\n",
    "standard_error = standard_deviation / np.sqrt(n)\n",
    "print(\"Standard Error of the Mean:\", standard_error)\n"
   ]
  },
  {
   "cell_type": "markdown",
   "id": "6eedadff",
   "metadata": {},
   "source": [
    "- Therefore, by performing the steps mentioned above using the provided satisfaction data, you can calculate the standard error of the mean satisfaction score.\n",
    "\n",
    "- The standard error of the mean measures the variability or uncertainty in the estimated mean. It quantifies how much the sample mean is expected to differ from the true population mean.\n",
    "\n",
    "\n",
    "\n",
    "\n"
   ]
  },
  {
   "cell_type": "markdown",
   "id": "a05a2099",
   "metadata": {},
   "source": [
    "20. Scenario: A company wants to analyze the relationship between advertising expenditure and sales. The data collected is as follows:\n",
    "    Advertising Expenditure (in thousands): [10, 15, 12, 8, 14]\n",
    "    Sales (in thousands): [25, 30, 28, 20, 26]\n",
    "    Perform a multiple regression analysis to predict sales based on advertising expenditure.\n",
    "\n",
    "\n"
   ]
  },
  {
   "cell_type": "code",
   "execution_count": 16,
   "id": "879662bb",
   "metadata": {},
   "outputs": [
    {
     "name": "stdout",
     "output_type": "stream",
     "text": [
      "Regression Equation: sales = 1.152439024390244 * advertising_expenditure + 12.20121951219512\n"
     ]
    }
   ],
   "source": [
    "import numpy as np\n",
    "from sklearn.linear_model import LinearRegression\n",
    "advertising_expenditure = np.array([10, 15, 12, 8, 14]).reshape(-1, 1)\n",
    "sales = np.array([25, 30, 28, 20, 26])\n",
    "model = LinearRegression()\n",
    "model.fit(advertising_expenditure, sales)\n",
    "slope = model.coef_[0]\n",
    "intercept = model.intercept_\n",
    "print(\"Regression Equation: sales =\", slope, \"* advertising_expenditure +\", intercept)\n"
   ]
  },
  {
   "cell_type": "markdown",
   "id": "7523e57a",
   "metadata": {},
   "source": [
    "- Therefore, by performing the steps mentioned above using the provided advertising expenditure and sales data, you can obtain the regression equation and make predictions on sales based on advertising expenditure.\n",
    "\n",
    "- The regression equation represents the relationship between advertising expenditure and sales. The slope coefficient indicates how much the sales are expected to change for each unit change in advertising expenditure, taking into account other predictor variables if present. The intercept term represents the expected sales when all predictor variables are zero (which may not have practical meaning in this context)."
   ]
  },
  {
   "cell_type": "code",
   "execution_count": null,
   "id": "35e18116",
   "metadata": {},
   "outputs": [],
   "source": []
  }
 ],
 "metadata": {
  "kernelspec": {
   "display_name": "Python 3 (ipykernel)",
   "language": "python",
   "name": "python3"
  },
  "language_info": {
   "codemirror_mode": {
    "name": "ipython",
    "version": 3
   },
   "file_extension": ".py",
   "mimetype": "text/x-python",
   "name": "python",
   "nbconvert_exporter": "python",
   "pygments_lexer": "ipython3",
   "version": "3.9.12"
  }
 },
 "nbformat": 4,
 "nbformat_minor": 5
}
